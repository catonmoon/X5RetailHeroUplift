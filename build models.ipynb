{
 "cells": [
  {
   "cell_type": "code",
   "execution_count": 1,
   "metadata": {},
   "outputs": [],
   "source": [
    "import numpy  as np\n",
    "import pandas as pd\n",
    "# import seaborn as sns\n",
    "import pandas_profiling\n",
    "import seaborn as sns\n",
    "import pickle\n",
    "import multiprocessing\n",
    "from typing import List, Dict, Any, Tuple, Optional\n",
    "\n",
    "from os.path import join as pjoin\n",
    "from utils import uplift_score, DATA_PATH, SUBMISSIONS_PATH"
   ]
  },
  {
   "cell_type": "code",
   "execution_count": 72,
   "metadata": {},
   "outputs": [],
   "source": [
    "from sklearn.tree import DecisionTreeClassifier, export_graphviz\n",
    "from sklearn.ensemble import GradientBoostingClassifier\n",
    "\n",
    "from sklearn.model_selection import train_test_split\n",
    "\n",
    "from CTL.CTL import CausalTree"
   ]
  },
  {
   "cell_type": "code",
   "execution_count": 69,
   "metadata": {},
   "outputs": [],
   "source": [
    "def round_df_column(df, column, round_to):\n",
    "    df[column] = df[column] // round_to * round_to\n",
    "\n",
    "\n",
    "def analyze_combs(df):\n",
    "    combs = 1\n",
    "    for col in df.columns:\n",
    "        nunique = df[col].nunique()\n",
    "        combs *= nunique\n",
    "        # print(col, nunique)\n",
    "    print('Combs: ', combs)\n",
    "    \n",
    "\n",
    "def get_feature_importances(est, columns):\n",
    "    return pd.DataFrame({\n",
    "        'column': columns,\n",
    "        'importance': est.feature_importances_,\n",
    "    }).sort_values('importance', ascending=False)"
   ]
  },
  {
   "cell_type": "code",
   "execution_count": 4,
   "metadata": {},
   "outputs": [],
   "source": [
    "df_clients = pd.read_csv(pjoin(DATA_PATH, 'clients.csv'), index_col='client_id', parse_dates=['first_issue_date', 'first_redeem_date'])\n",
    "df_train = pd.read_csv(pjoin(DATA_PATH, 'uplift_train.csv'), index_col='client_id')\n",
    "df_test = pd.read_csv(pjoin(DATA_PATH, 'uplift_test.csv'), index_col='client_id')"
   ]
  },
  {
   "cell_type": "code",
   "execution_count": 5,
   "metadata": {},
   "outputs": [],
   "source": [
    "# Извлечение признаков\n",
    "MIN_DATETIME = df_clients['first_issue_date'].min()\n",
    "SECONDS_IN_DAY = 60 * 60 * 24\n",
    "df_clients['first_issue_unixtime'] = (df_clients['first_issue_date'] - MIN_DATETIME).dt.total_seconds() // SECONDS_IN_DAY\n",
    "df_clients['first_redeem_unixtime'] = (df_clients['first_redeem_date'] - MIN_DATETIME).dt.total_seconds() // SECONDS_IN_DAY"
   ]
  },
  {
   "cell_type": "code",
   "execution_count": 6,
   "metadata": {},
   "outputs": [
    {
     "name": "stdout",
     "output_type": "stream",
     "text": [
      "Combs:  1457271019200\n"
     ]
    }
   ],
   "source": [
    "df_features = pd.DataFrame({\n",
    "    'gender_M': (df_clients['gender'] == 'M').astype(int),\n",
    "    'gender_F': (df_clients['gender'] == 'F').astype(int),\n",
    "    'gender_U': (df_clients['gender'] == 'U').astype(int),\n",
    "    'age': df_clients['age'],\n",
    "    'first_issue_time': df_clients['first_issue_unixtime'],\n",
    "    'first_redeem_time': df_clients['first_redeem_unixtime'],\n",
    "    'issue_redeem_delay': df_clients['first_redeem_unixtime'] - df_clients['first_issue_unixtime'],\n",
    "}).fillna(0)\n",
    "analyze_combs(df_features)"
   ]
  },
  {
   "cell_type": "code",
   "execution_count": 7,
   "metadata": {},
   "outputs": [
    {
     "name": "stdout",
     "output_type": "stream",
     "text": [
      "Combs:  2230272\n"
     ]
    }
   ],
   "source": [
    "df_features.loc[df_features['age'] < 0, 'age'] = -10\n",
    "df_features.loc[df_features['age'] > 80, 'age'] = -20\n",
    "round_df_column(df_features, 'age', 10)\n",
    "round_df_column(df_features, 'first_issue_time', 30)\n",
    "round_df_column(df_features, 'first_redeem_time', 30)\n",
    "round_df_column(df_features, 'issue_redeem_delay', 30)\n",
    "\n",
    "analyze_combs(df_features)"
   ]
  },
  {
   "cell_type": "code",
   "execution_count": 8,
   "metadata": {},
   "outputs": [],
   "source": [
    "indices_train = df_train.index\n",
    "indices_test = df_test.index\n",
    "indices_learn, indices_valid = train_test_split(df_train.index, test_size=0.3, random_state=123)"
   ]
  },
  {
   "cell_type": "code",
   "execution_count": 9,
   "metadata": {},
   "outputs": [],
   "source": [
    "X_train = df_features.loc[indices_learn, :].values\n",
    "X_test = df_features.loc[indices_valid, :].values\n",
    "X_valid = df_features.loc[indices_valid, :].values\n",
    "\n",
    "treatment_train = df_train.loc[indices_learn, 'treatment_flg'].values\n",
    "target_train = df_train.loc[indices_learn, 'target'].values\n",
    "\n",
    "treatment_valid = df_train.loc[indices_valid, 'treatment_flg'].values\n",
    "target_valid = df_train.loc[indices_valid, 'target'].values"
   ]
  },
  {
   "cell_type": "code",
   "execution_count": null,
   "metadata": {},
   "outputs": [],
   "source": []
  },
  {
   "cell_type": "code",
   "execution_count": 88,
   "metadata": {},
   "outputs": [
    {
     "name": "stdout",
     "output_type": "stream",
     "text": [
      "Wall time: 183 ms\n"
     ]
    },
    {
     "data": {
      "text/plain": [
       "DecisionTreeClassifier(class_weight=None, criterion='gini', max_depth=5,\n",
       "                       max_features=None, max_leaf_nodes=None,\n",
       "                       min_impurity_decrease=0.0, min_impurity_split=None,\n",
       "                       min_samples_leaf=100, min_samples_split=2,\n",
       "                       min_weight_fraction_leaf=0.0, presort=False,\n",
       "                       random_state=1, splitter='best')"
      ]
     },
     "execution_count": 88,
     "metadata": {},
     "output_type": "execute_result"
    }
   ],
   "source": [
    "%%time\n",
    "y = target_train\n",
    "w = treatment_train\n",
    "z = y * w + (1 - y) * (1 - w)\n",
    "\n",
    "dt = DecisionTreeClassifier(max_depth=5, random_state=1, min_samples_leaf=100)\n",
    "dt.fit(X_train, z);"
   ]
  },
  {
   "cell_type": "code",
   "execution_count": 89,
   "metadata": {},
   "outputs": [
    {
     "data": {
      "text/html": [
       "<div>\n",
       "<style scoped>\n",
       "    .dataframe tbody tr th:only-of-type {\n",
       "        vertical-align: middle;\n",
       "    }\n",
       "\n",
       "    .dataframe tbody tr th {\n",
       "        vertical-align: top;\n",
       "    }\n",
       "\n",
       "    .dataframe thead th {\n",
       "        text-align: right;\n",
       "    }\n",
       "</style>\n",
       "<table border=\"1\" class=\"dataframe\">\n",
       "  <thead>\n",
       "    <tr style=\"text-align: right;\">\n",
       "      <th></th>\n",
       "      <th>column</th>\n",
       "      <th>importance</th>\n",
       "    </tr>\n",
       "  </thead>\n",
       "  <tbody>\n",
       "    <tr>\n",
       "      <td>5</td>\n",
       "      <td>first_redeem_time</td>\n",
       "      <td>0.679684</td>\n",
       "    </tr>\n",
       "    <tr>\n",
       "      <td>3</td>\n",
       "      <td>age</td>\n",
       "      <td>0.188542</td>\n",
       "    </tr>\n",
       "    <tr>\n",
       "      <td>4</td>\n",
       "      <td>first_issue_time</td>\n",
       "      <td>0.082989</td>\n",
       "    </tr>\n",
       "    <tr>\n",
       "      <td>6</td>\n",
       "      <td>issue_redeem_delay</td>\n",
       "      <td>0.041321</td>\n",
       "    </tr>\n",
       "    <tr>\n",
       "      <td>0</td>\n",
       "      <td>gender_M</td>\n",
       "      <td>0.007465</td>\n",
       "    </tr>\n",
       "    <tr>\n",
       "      <td>1</td>\n",
       "      <td>gender_F</td>\n",
       "      <td>0.000000</td>\n",
       "    </tr>\n",
       "    <tr>\n",
       "      <td>2</td>\n",
       "      <td>gender_U</td>\n",
       "      <td>0.000000</td>\n",
       "    </tr>\n",
       "  </tbody>\n",
       "</table>\n",
       "</div>"
      ],
      "text/plain": [
       "               column  importance\n",
       "5   first_redeem_time    0.679684\n",
       "3                 age    0.188542\n",
       "4    first_issue_time    0.082989\n",
       "6  issue_redeem_delay    0.041321\n",
       "0            gender_M    0.007465\n",
       "1            gender_F    0.000000\n",
       "2            gender_U    0.000000"
      ]
     },
     "execution_count": 89,
     "metadata": {},
     "output_type": "execute_result"
    }
   ],
   "source": [
    "get_feature_importances(dt, df_features.columns)"
   ]
  },
  {
   "cell_type": "code",
   "execution_count": 76,
   "metadata": {},
   "outputs": [],
   "source": [
    "export_graphviz(dt, out_file = 'dtree.dot', feature_names = df_features.columns)"
   ]
  },
  {
   "cell_type": "code",
   "execution_count": 79,
   "metadata": {},
   "outputs": [],
   "source": [
    "from IPython.display import SVG\n",
    "from graphviz import Source"
   ]
  },
  {
   "cell_type": "code",
   "execution_count": 90,
   "metadata": {},
   "outputs": [],
   "source": [
    "graph = Source(export_graphviz(dt, out_file=None, feature_names = df_features.columns, filled=True))\n",
    "# SVG(graph.pipe(format='svg'))"
   ]
  },
  {
   "cell_type": "code",
   "execution_count": 91,
   "metadata": {},
   "outputs": [
    {
     "data": {
      "text/plain": [
       "'dtree_render.png'"
      ]
     },
     "execution_count": 91,
     "metadata": {},
     "output_type": "execute_result"
    }
   ],
   "source": [
    "graph.format = 'png'\n",
    "graph.render('dtree_render',view=True)"
   ]
  },
  {
   "cell_type": "code",
   "execution_count": null,
   "metadata": {},
   "outputs": [],
   "source": []
  },
  {
   "cell_type": "code",
   "execution_count": null,
   "metadata": {},
   "outputs": [],
   "source": []
  },
  {
   "cell_type": "code",
   "execution_count": null,
   "metadata": {},
   "outputs": [],
   "source": []
  },
  {
   "cell_type": "code",
   "execution_count": 17,
   "metadata": {},
   "outputs": [
    {
     "name": "stdout",
     "output_type": "stream",
     "text": [
      "Wall time: 1.7 s\n"
     ]
    }
   ],
   "source": [
    "%%time\n",
    "ctl = CausalTree(min_size=100, max_depth=3, seed=1)\n",
    "ctl.fit(X_train, target_train, treatment_train)"
   ]
  },
  {
   "cell_type": "code",
   "execution_count": 18,
   "metadata": {},
   "outputs": [
    {
     "name": "stdout",
     "output_type": "stream",
     "text": [
      "Wall time: 96.7 ms\n"
     ]
    }
   ],
   "source": [
    "%%time\n",
    "ctl_predict = ctl.predict(X_valid)"
   ]
  },
  {
   "cell_type": "code",
   "execution_count": 19,
   "metadata": {},
   "outputs": [
    {
     "data": {
      "text/plain": [
       "0.03218312235012133"
      ]
     },
     "execution_count": 19,
     "metadata": {},
     "output_type": "execute_result"
    }
   ],
   "source": [
    "uplift_score(ctl_predict, treatment_valid, target_valid)"
   ]
  },
  {
   "cell_type": "code",
   "execution_count": null,
   "metadata": {},
   "outputs": [],
   "source": []
  },
  {
   "cell_type": "code",
   "execution_count": null,
   "metadata": {},
   "outputs": [],
   "source": []
  },
  {
   "cell_type": "code",
   "execution_count": null,
   "metadata": {},
   "outputs": [],
   "source": []
  },
  {
   "cell_type": "code",
   "execution_count": null,
   "metadata": {},
   "outputs": [],
   "source": []
  },
  {
   "cell_type": "code",
   "execution_count": null,
   "metadata": {},
   "outputs": [],
   "source": []
  },
  {
   "cell_type": "code",
   "execution_count": null,
   "metadata": {},
   "outputs": [],
   "source": []
  },
  {
   "cell_type": "code",
   "execution_count": null,
   "metadata": {},
   "outputs": [],
   "source": []
  },
  {
   "cell_type": "code",
   "execution_count": 20,
   "metadata": {},
   "outputs": [],
   "source": [
    "def parallel(func, n_processes: int, all_args: List[tuple]) -> List[Any]:\n",
    "    if n_processes > 1:\n",
    "        with multiprocessing.Pool(n_processes) as p:\n",
    "            result = p.starmap(func, all_args)\n",
    "    else:\n",
    "        print('parallel: one process')\n",
    "        result = [func(*args) for args in all_args]\n",
    "    return result"
   ]
  },
  {
   "cell_type": "code",
   "execution_count": 63,
   "metadata": {},
   "outputs": [],
   "source": [
    "class UpliftRandomForestClassifier:\n",
    "    def __init__(\n",
    "            self,\n",
    "            n_estimators: int = 100,\n",
    "            # max_depth: int = 3,\n",
    "            n_jobs: int = 1,\n",
    "    ):\n",
    "        self.n_estimators = n_estimators\n",
    "        # self.max_depth = max_depth\n",
    "        self.n_jobs = n_jobs\n",
    "\n",
    "        self.trees = []\n",
    "        self.samples_col_indices = []\n",
    "\n",
    "    @staticmethod\n",
    "    def _fit_tree(\n",
    "        X: np.ndarray,\n",
    "        target: np.ndarray,\n",
    "        treatment: np.ndarray,\n",
    "        seed: int,\n",
    "    ) -> CausalTree:\n",
    "        print('fit tree')\n",
    "        ctl = CausalTree(min_size=100, max_depth=3, seed=seed)\n",
    "        ctl.fit(X, target, treatment)\n",
    "        return ctl\n",
    "\n",
    "    def fit(self, X: np.ndarray, target: np.ndarray, treatment: np.ndarray):\n",
    "        np.random.seed(1)\n",
    "        \n",
    "        n_rows, n_columns = X.shape\n",
    "        n = n_rows\n",
    "        m = 3\n",
    "        all_row_indices = np.arange(n_rows)\n",
    "        all_col_indices = np.arange(n_columns)\n",
    "\n",
    "        all_args = []\n",
    "        for i in range(self.n_estimators):\n",
    "            row_indices = np.random.choice(all_row_indices, size=n,\n",
    "                                           replace=True)\n",
    "            col_indices = np.random.choice(all_col_indices, size=m,\n",
    "                                           replace=False)\n",
    "            sample = X[row_indices, :][:, col_indices]\n",
    "            sample_target = target[row_indices]\n",
    "            sample_treatment = treatment[row_indices]\n",
    "            all_args.append((sample, sample_target, sample_treatment, i))\n",
    "            self.samples_col_indices.append(col_indices)\n",
    "\n",
    "        self.trees = parallel(self._fit_tree, self.n_jobs, all_args)\n",
    "\n",
    "    @staticmethod\n",
    "    def _predict_from_tree(ctl: CausalTree, X: np.ndarray) -> np.ndarray:\n",
    "        prediction = ctl.predict(X)\n",
    "        return prediction\n",
    "\n",
    "    def predict(self, X: np.ndarray) -> np.ndarray:\n",
    "        all_args = [\n",
    "            (tree, X[:, col_indices])\n",
    "            for tree, col_indices in zip(self.trees, self.samples_col_indices)\n",
    "        ]\n",
    "        predictions_all = parallel(self._predict_from_tree, self.n_jobs,\n",
    "                                   all_args)\n",
    "        predictions_mat = np.vstack(predictions_all)\n",
    "        predictions = predictions_mat.mean(axis=0)\n",
    "        return predictions"
   ]
  },
  {
   "cell_type": "code",
   "execution_count": 64,
   "metadata": {},
   "outputs": [
    {
     "name": "stdout",
     "output_type": "stream",
     "text": [
      "parallel: one process\n",
      "fit tree\n",
      "fit tree\n",
      "fit tree\n",
      "fit tree\n",
      "fit tree\n",
      "fit tree\n",
      "fit tree\n",
      "fit tree\n",
      "fit tree\n",
      "fit tree\n",
      "Wall time: 6.95 s\n"
     ]
    }
   ],
   "source": [
    "%%time\n",
    "rf_clf = UpliftRandomForestClassifier(n_estimators=10, n_jobs=1)\n",
    "rf_clf.fit(X_train, target_train, treatment_train)"
   ]
  },
  {
   "cell_type": "code",
   "execution_count": 65,
   "metadata": {},
   "outputs": [
    {
     "name": "stdout",
     "output_type": "stream",
     "text": [
      "parallel: one process\n",
      "Wall time: 733 ms\n"
     ]
    }
   ],
   "source": [
    "%%time\n",
    "pred = rf_clf.predict(X_valid)"
   ]
  },
  {
   "cell_type": "code",
   "execution_count": 66,
   "metadata": {},
   "outputs": [
    {
     "data": {
      "text/plain": [
       "0.029774313423366228"
      ]
     },
     "execution_count": 66,
     "metadata": {},
     "output_type": "execute_result"
    }
   ],
   "source": [
    "uplift_score(pred, treatment_valid, target_valid)"
   ]
  },
  {
   "cell_type": "code",
   "execution_count": 41,
   "metadata": {},
   "outputs": [],
   "source": [
    "t = rf_clf.trees[0]"
   ]
  }
 ],
 "metadata": {
  "kernelspec": {
   "display_name": "Python 3",
   "language": "python",
   "name": "python3"
  },
  "language_info": {
   "codemirror_mode": {
    "name": "ipython",
    "version": 3
   },
   "file_extension": ".py",
   "mimetype": "text/x-python",
   "name": "python",
   "nbconvert_exporter": "python",
   "pygments_lexer": "ipython3",
   "version": "3.7.3"
  }
 },
 "nbformat": 4,
 "nbformat_minor": 2
}
