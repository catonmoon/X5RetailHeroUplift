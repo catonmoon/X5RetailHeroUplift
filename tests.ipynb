{
 "cells": [
  {
   "cell_type": "code",
   "execution_count": 9,
   "metadata": {},
   "outputs": [],
   "source": [
    "import main"
   ]
  },
  {
   "cell_type": "code",
   "execution_count": 10,
   "metadata": {},
   "outputs": [],
   "source": [
    "import pandas as pd\n",
    "import numpy as np\n"
   ]
  },
  {
   "cell_type": "code",
   "execution_count": 13,
   "metadata": {},
   "outputs": [],
   "source": [
    "clients, client_encoder = prepare_clients()\n",
    "products, product_encoder = prepare_products()\n",
    "purchases = prepare_purchases(client_encoder, product_encoder)\n",
    "del product_encoder\n",
    "\n",
    "purchase_features = make_purchase_features(purchases)\n",
    "\n",
    "# Last month purchases\n",
    "max_datetime = purchases['datetime'].max()\n",
    "cutoff = max_datetime - timedelta(days=30)\n",
    "purchases_lm = purchases[purchases['datetime'] >= cutoff]\n",
    "purchase_lm_features = make_purchase_features(purchases_lm)\n",
    "del purchases_lm"
   ]
  },
  {
   "cell_type": "code",
   "execution_count": null,
   "metadata": {},
   "outputs": [],
   "source": []
  }
 ],
 "metadata": {
  "kernelspec": {
   "display_name": "Python 3",
   "language": "python",
   "name": "python3"
  },
  "language_info": {
   "codemirror_mode": {
    "name": "ipython",
    "version": 3
   },
   "file_extension": ".py",
   "mimetype": "text/x-python",
   "name": "python",
   "nbconvert_exporter": "python",
   "pygments_lexer": "ipython3",
   "version": "3.7.6"
  }
 },
 "nbformat": 4,
 "nbformat_minor": 2
}
